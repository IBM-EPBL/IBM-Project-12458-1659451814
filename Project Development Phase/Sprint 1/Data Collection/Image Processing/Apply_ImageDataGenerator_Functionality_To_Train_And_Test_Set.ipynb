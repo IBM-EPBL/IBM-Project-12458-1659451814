{
 "cells": [
  {
   "cell_type": "markdown",
   "metadata": {
    "id": "-zli6A0zjSUQ"
   },
   "source": [
    "# **Image Preprocessing**"
   ]
  },
  {
   "cell_type": "markdown",
   "metadata": {
    "id": "dcAi5L3Ni-oA"
   },
   "source": [
    "### Applying ImageDataGenerator Functionality To Train And Test Set"
   ]
  },
  {
   "cell_type": "code",
   "execution_count": null,
   "metadata": {
    "id": "iy2QXRwJeOqr"
   },
   "outputs": [],
   "source": [
    "from tensorflow.keras.preprocessing.image import ImageDataGenerator"
   ]
  },
  {
   "cell_type": "code",
   "execution_count": null,
   "metadata": {
    "id": "AdFUXM70fmPj"
   },
   "outputs": [],
   "source": [
    "# Testing Datagen\n",
    "test_datagen = ImageDataGenerator(rescale=1/255)\n",
    "# Training Datagen\n",
    "train_datagen = ImageDataGenerator(rescale=1/255,zoom_range=0.2,horizontal_flip=True,vertical_flip=False)\n",
    "\n"
   ]
  },
  {
   "cell_type": "code",
   "execution_count": null,
   "metadata": {
    "id": "-SpHowmAgu7_"
   },
   "outputs": [],
   "source": [
    "# Training Dataset\n",
    "x_train=train_datagen.flow_from_directory(r'/content/drive/MyDrive/Dataset/training_set',target_size=(64,64), class_mode='categorical',batch_size=900)\n",
    "# Testing Dataset\n",
    "x_test=test_datagen.flow_from_directory(r'/content/drive/MyDrive/Dataset/test_set',target_size=(64,64), class_mode='categorical',batch_size=900)\n"
   ]
  },
  {
   "cell_type": "code",
   "execution_count": null,
   "metadata": {
    "id": "2qLcDqP4jgPT"
   },
   "outputs": [],
   "source": [
    "print(\"Len x-train : \",len(x_train))\n",
    "print(\"Len x-test : \", len(x_test))"
   ]
  },
  {
   "cell_type": "code",
   "execution_count": null,
   "metadata": {
    "id": "V9Z-Rvl1jh-Q"
   },
   "outputs": [],
   "source": [
    "# The Class Indices in Training Dataset\n",
    "x_train.class_indices"
   ]
  },
  {
   "cell_type": "code",
   "execution_count": null,
   "metadata": {
    "id": "W2LFnWR6mm_A"
   },
   "outputs": [],
   "source": [
    "traindf=pd.read_csv('/content/drive/images_and_labels.txt',dtype=str,sep='\\s')\n",
    "traindf.columns = ['image','label','none1','none2','none3']\n",
    "traindf.drop(['none1', 'none2','none3'], axis=1)\n",
    "\n"
   ]
  },
  {
   "cell_type": "code",
   "execution_count": null,
   "metadata": {
    "id": "noFh79cEmqcO"
   },
   "outputs": [],
   "source": [
    "datagen=ImageDataGenerator(rescale=1./255.,validation_split=0.25)\n"
   ]
  },
  {
   "cell_type": "code",
   "execution_count": null,
   "metadata": {
    "id": "jtUMMLeVmtWU"
   },
   "outputs": [],
   "source": [
    "\n",
    "train_generator=datagen.flow_from_dataframe\n",
    "(\n",
    "  dataframe=traindf,\n",
    "  directory=\"/content/drive/\",\n",
    "  x_col=\"image\",\n",
    "  y_col=\"label\",\n",
    "  subset=\"training\",\n",
    "  batch_size=32,\n",
    "  seed=42,\n",
    "  shuffle=True,\n",
    "  class_mode=\"categorical\",\n",
    "  target_size=(150,150)\n",
    ")\n"
   ]
  },
  {
   "cell_type": "code",
   "execution_count": null,
   "metadata": {
    "id": "vhXJVAwzmyXV"
   },
   "outputs": [],
   "source": [
    "\n",
    "validation_generator=datagen.flow_from_dataframe\n",
    "(\n",
    "  dataframe=traindf,\n",
    "  directory=\"/content/drive/\",\n",
    "  x_col=\"image\",\n",
    "  y_col=\"label\",\n",
    "  subset=\"validation\",\n",
    "  batch_size=32,\n",
    "  seed=42,\n",
    "  shuffle=True,\n",
    "  class_mode=\"categorical\",\n",
    "  target_size=(150,150)\n",
    ")"
   ]
  }
 ],
 "metadata": {
  "colab": {
   "collapsed_sections": [],
   "provenance": []
  },
  "kernelspec": {
   "display_name": "Python 3 (ipykernel)",
   "language": "python",
   "name": "python3"
  },
  "language_info": {
   "codemirror_mode": {
    "name": "ipython",
    "version": 3
   },
   "file_extension": ".py",
   "mimetype": "text/x-python",
   "name": "python",
   "nbconvert_exporter": "python",
   "pygments_lexer": "ipython3",
   "version": "3.9.13"
  }
 },
 "nbformat": 4,
 "nbformat_minor": 1
}
